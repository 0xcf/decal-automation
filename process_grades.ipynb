{
 "cells": [
  {
   "cell_type": "markdown",
   "metadata": {},
   "source": [
    "# Linux Sysadmin DeCal Grade Processor\n",
    "Last updated: Spring 2021\n",
    "\n",
    "Created by bencuan\n",
    "\n",
    "## About\n",
    "This tool use Gradescope grade exports and generates an interactive grade report. (TODO: Automatically email students with their grade)\n",
    "\n",
    "There is a precommit hook that automatically removes all output from the notebook, so don't worry about accidentally exposing sensitive data. Just don't commit the csv's themselves.\n",
    "\n",
    "## Install\n",
    "To run Jupyter notebooks, you can [install it here](https://jupyter.org/install) or use [JupyterHub](https://datahub.berkeley.edu/). vscode also seems to have ipynb support now so that's pretty cool. If running locally, ensure you have pandas (`pip install pandas`).\n",
    "\n",
    "## Usage\n",
    "1. Export grade CSV's from Gradescope and place them in the `data/` folder.\n",
    "1. In the code box below, assign `beginner_path` and `advanced_path` to point to the respective csv's.\n",
    "2. If the lab names changed, you may also need to modify the `beginner_labs` and `advanced_labs` variables. Make them a list with each entry being a string containing one lab name (e.g. 'b1')\n",
    "4. Run all of the cells!\n",
    "5. \n",
    "5. The final cell exports the result to the file `data/grades_compiled.csv`."
   ]
  },
  {
   "cell_type": "code",
   "execution_count": 3,
   "metadata": {},
   "outputs": [],
   "source": [
    "# IMPORTS\n",
    "import pandas as pd"
   ]
  },
  {
   "cell_type": "code",
   "execution_count": 4,
   "metadata": {},
   "outputs": [],
   "source": [
    "# CONFIGURATION\n",
    "beginner_path = 'beginner.csv'\n",
    "advanced_path = 'advanced.csv'\n",
    "\n",
    "beginner_labs = [f'b{i}' for i in range(1, 11)] + ['11']\n",
    "advanced_labs = [f'a{i}' for i in range(1, 11)] + ['11']"
   ]
  },
  {
   "cell_type": "code",
   "execution_count": 5,
   "metadata": {},
   "outputs": [
    {
     "output_type": "stream",
     "name": "stdout",
     "text": [
      "hi\n"
     ]
    }
   ],
   "source": [
    "print('hi')\n"
   ]
  },
  {
   "cell_type": "code",
   "execution_count": 6,
   "metadata": {},
   "outputs": [
    {
     "output_type": "error",
     "ename": "SyntaxError",
     "evalue": "invalid syntax (<ipython-input-6-4b37ef281455>, line 1)",
     "traceback": [
      "\u001b[0;36m  File \u001b[0;32m\"<ipython-input-6-4b37ef281455>\"\u001b[0;36m, line \u001b[0;32m1\u001b[0m\n\u001b[0;31m    |\u001b[0m\n\u001b[0m    ^\u001b[0m\n\u001b[0;31mSyntaxError\u001b[0m\u001b[0;31m:\u001b[0m invalid syntax\n"
     ]
    }
   ],
   "source": []
  },
  {
   "cell_type": "code",
   "execution_count": null,
   "metadata": {},
   "outputs": [],
   "source": []
  },
  {
   "source": [
    "## Export Grades for Submission\n",
    "The script below takes in an empty grade sheet (contact Hilfinger or Cindy to get) and fills it in with P's and NP's. It is recommended that you manually look over the output and enter comments for all of the NP's.\n",
    "\n",
    "All of the above cells must be run before this section."
   ],
   "cell_type": "markdown",
   "metadata": {}
  },
  {
   "cell_type": "code",
   "execution_count": null,
   "metadata": {},
   "outputs": [],
   "source": [
    "# CONFIGURATION\n",
    "ONTIME_LAB_MIN = 7 # At least this number of labs turned in on time for P\n",
    "COMPLETE_LAB_MIN = 10 # At least this number of labs turned in for P"
   ]
  }
 ],
 "metadata": {
  "kernelspec": {
   "name": "python392jvsc74a57bd0767d51c1340bd893661ea55ea3124f6de3c7a262a8b4abca0554b478b1e2ff90",
   "display_name": "Python 3.9.2 64-bit"
  },
  "language_info": {
   "codemirror_mode": {
    "name": "ipython",
    "version": 3
   },
   "file_extension": ".py",
   "mimetype": "text/x-python",
   "name": "python",
   "nbconvert_exporter": "python",
   "pygments_lexer": "ipython3",
   "version": "3.9.2"
  }
 },
 "nbformat": 4,
 "nbformat_minor": 4
}